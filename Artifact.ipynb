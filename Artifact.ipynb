{
  "nbformat": 4,
  "nbformat_minor": 0,
  "metadata": {
    "colab": {
      "provenance": []
    },
    "kernelspec": {
      "name": "python3",
      "display_name": "Python 3"
    },
    "language_info": {
      "name": "python"
    }
  },
  "cells": [
    {
      "cell_type": "code",
      "execution_count": null,
      "metadata": {
        "colab": {
          "base_uri": "https://localhost:8080/"
        },
        "id": "Eur7mE4a5o6r",
        "outputId": "0c5bd0f2-4d25-4ec2-ffed-6a5b414696db"
      },
      "outputs": [
        {
          "output_type": "stream",
          "name": "stdout",
          "text": [
            "Collecting pandas==2.0.2\n",
            "  Downloading pandas-2.0.2.tar.gz (5.3 MB)\n",
            "\u001b[2K     \u001b[90m━━━━━━━━━━━━━━━━━━━━━━━━━━━━━━━━━━━━━━━━\u001b[0m \u001b[32m5.3/5.3 MB\u001b[0m \u001b[31m20.7 MB/s\u001b[0m eta \u001b[36m0:00:00\u001b[0m\n",
            "\u001b[?25h  Installing build dependencies ... \u001b[?25l\u001b[?25hdone\n",
            "  Getting requirements to build wheel ... \u001b[?25l\u001b[?25hdone\n",
            "  Preparing metadata (pyproject.toml) ... \u001b[?25l\u001b[?25hdone\n",
            "Requirement already satisfied: numpy>=1.21.0 in /usr/local/lib/python3.12/dist-packages (from pandas==2.0.2) (2.0.2)\n",
            "Requirement already satisfied: python-dateutil>=2.8.2 in /usr/local/lib/python3.12/dist-packages (from pandas==2.0.2) (2.9.0.post0)\n",
            "Requirement already satisfied: pytz>=2020.1 in /usr/local/lib/python3.12/dist-packages (from pandas==2.0.2) (2025.2)\n",
            "Requirement already satisfied: tzdata>=2022.1 in /usr/local/lib/python3.12/dist-packages (from pandas==2.0.2) (2025.2)\n",
            "Requirement already satisfied: six>=1.5 in /usr/local/lib/python3.12/dist-packages (from python-dateutil>=2.8.2->pandas==2.0.2) (1.17.0)\n",
            "Building wheels for collected packages: pandas\n",
            "  Building wheel for pandas (pyproject.toml) ... \u001b[?25l\u001b[?25hcanceled\n",
            "\u001b[31mERROR: Operation cancelled by user\u001b[0m\u001b[31m\n",
            "\u001b[0mTraceback (most recent call last):\n",
            "  File \"/usr/local/lib/python3.12/dist-packages/pip/_internal/cli/base_command.py\", line 179, in exc_logging_wrapper\n",
            "    status = run_func(*args)\n",
            "             ^^^^^^^^^^^^^^^\n",
            "  File \"/usr/local/lib/python3.12/dist-packages/pip/_internal/cli/req_command.py\", line 67, in wrapper\n",
            "    return func(self, options, args)\n",
            "           ^^^^^^^^^^^^^^^^^^^^^^^^^\n",
            "  File \"/usr/local/lib/python3.12/dist-packages/pip/_internal/commands/install.py\", line 423, in run\n",
            "    _, build_failures = build(\n",
            "                        ^^^^^^\n",
            "  File \"/usr/local/lib/python3.12/dist-packages/pip/_internal/wheel_builder.py\", line 319, in build\n",
            "    wheel_file = _build_one(\n",
            "                 ^^^^^^^^^^^\n",
            "  File \"/usr/local/lib/python3.12/dist-packages/pip/_internal/wheel_builder.py\", line 193, in _build_one\n",
            "    wheel_path = _build_one_inside_env(\n",
            "                 ^^^^^^^^^^^^^^^^^^^^^^\n",
            "  File \"/usr/local/lib/python3.12/dist-packages/pip/_internal/wheel_builder.py\", line 233, in _build_one_inside_env\n",
            "    wheel_path = build_wheel_pep517(\n",
            "                 ^^^^^^^^^^^^^^^^^^^\n",
            "  File \"/usr/local/lib/python3.12/dist-packages/pip/_internal/operations/build/wheel.py\", line 30, in build_wheel_pep517\n",
            "    wheel_name = backend.build_wheel(\n",
            "                 ^^^^^^^^^^^^^^^^^^^^\n",
            "  File \"/usr/local/lib/python3.12/dist-packages/pip/_internal/utils/misc.py\", line 682, in build_wheel\n",
            "    return super().build_wheel(\n",
            "           ^^^^^^^^^^^^^^^^^^^^\n",
            "  File \"/usr/local/lib/python3.12/dist-packages/pip/_vendor/pyproject_hooks/_impl.py\", line 209, in build_wheel\n",
            "    return self._call_hook('build_wheel', {\n",
            "           ^^^^^^^^^^^^^^^^^^^^^^^^^^^^^^^^\n",
            "  File \"/usr/local/lib/python3.12/dist-packages/pip/_vendor/pyproject_hooks/_impl.py\", line 311, in _call_hook\n",
            "    self._subprocess_runner(\n",
            "  File \"/usr/local/lib/python3.12/dist-packages/pip/_internal/utils/subprocess.py\", line 237, in runner\n",
            "    call_subprocess(\n",
            "  File \"/usr/local/lib/python3.12/dist-packages/pip/_internal/utils/subprocess.py\", line 151, in call_subprocess\n",
            "    line: str = proc.stdout.readline()\n",
            "                ^^^^^^^^^^^^^^^^^^^^^^\n",
            "KeyboardInterrupt\n",
            "\n",
            "During handling of the above exception, another exception occurred:\n",
            "\n",
            "Traceback (most recent call last):\n",
            "  File \"/usr/local/bin/pip3\", line 10, in <module>\n",
            "    sys.exit(main())\n",
            "             ^^^^^^\n",
            "  File \"/usr/local/lib/python3.12/dist-packages/pip/_internal/cli/main.py\", line 80, in main\n",
            "    return command.main(cmd_args)\n",
            "           ^^^^^^^^^^^^^^^^^^^^^^\n",
            "  File \"/usr/local/lib/python3.12/dist-packages/pip/_internal/cli/base_command.py\", line 100, in main\n",
            "    return self._main(args)\n",
            "           ^^^^^^^^^^^^^^^^\n",
            "  File \"/usr/local/lib/python3.12/dist-packages/pip/_internal/cli/base_command.py\", line 232, in _main\n",
            "    return run(options, args)\n",
            "           ^^^^^^^^^^^^^^^^^^\n",
            "  File \"/usr/local/lib/python3.12/dist-packages/pip/_internal/cli/base_command.py\", line 215, in exc_logging_wrapper\n",
            "    logger.critical(\"Operation cancelled by user\")\n",
            "  File \"/usr/lib/python3.12/logging/__init__.py\", line 1586, in critical\n",
            "    self._log(CRITICAL, msg, args, **kwargs)\n",
            "  File \"/usr/lib/python3.12/logging/__init__.py\", line 1684, in _log\n",
            "    self.handle(record)\n",
            "  File \"/usr/lib/python3.12/logging/__init__.py\", line 1700, in handle\n",
            "    self.callHandlers(record)\n",
            "  File \"/usr/lib/python3.12/logging/__init__.py\", line 1762, in callHandlers\n",
            "    hdlr.handle(record)\n",
            "  File \"/usr/lib/python3.12/logging/__init__.py\", line 1028, in handle\n",
            "    self.emit(record)\n",
            "  File \"/usr/local/lib/python3.12/dist-packages/pip/_internal/utils/logging.py\", line 177, in emit\n",
            "    self.console.print(renderable, overflow=\"ignore\", crop=False, style=style)\n",
            "  File \"/usr/local/lib/python3.12/dist-packages/pip/_vendor/rich/console.py\", line 1673, in print\n",
            "    with self:\n",
            "         ^^^^\n",
            "  File \"/usr/local/lib/python3.12/dist-packages/pip/_vendor/rich/console.py\", line 865, in __exit__\n",
            "    self._exit_buffer()\n",
            "  File \"/usr/local/lib/python3.12/dist-packages/pip/_vendor/rich/console.py\", line 823, in _exit_buffer\n",
            "    self._check_buffer()\n",
            "  File \"/usr/local/lib/python3.12/dist-packages/pip/_vendor/rich/console.py\", line 2060, in _check_buffer\n",
            "    self.file.write(text)\n",
            "KeyboardInterrupt\n",
            "^C\n"
          ]
        }
      ],
      "source": [
        "!pip install pandas==2.0.2"
      ]
    },
    {
      "cell_type": "code",
      "source": [
        "import pandas"
      ],
      "metadata": {
        "id": "K_OcGEn45yan"
      },
      "execution_count": null,
      "outputs": []
    },
    {
      "cell_type": "code",
      "source": [
        "import pandas as pd"
      ],
      "metadata": {
        "id": "IrOK09zI5zYo"
      },
      "execution_count": null,
      "outputs": []
    },
    {
      "cell_type": "code",
      "source": [
        "dir(pd)"
      ],
      "metadata": {
        "id": "QPMHx2sC5zeK"
      },
      "execution_count": null,
      "outputs": []
    },
    {
      "cell_type": "code",
      "source": [
        "help(pd.read_csv)"
      ],
      "metadata": {
        "id": "pzexJ8lw5-rr"
      },
      "execution_count": null,
      "outputs": []
    },
    {
      "cell_type": "code",
      "source": [
        "pd.read_csv?"
      ],
      "metadata": {
        "id": "NyBLdFgv5-_V"
      },
      "execution_count": null,
      "outputs": []
    },
    {
      "cell_type": "markdown",
      "source": [
        "Importing Sample CSV\n"
      ],
      "metadata": {
        "id": "ArqmB9-S6Gc2"
      }
    },
    {
      "cell_type": "code",
      "source": [
        "from google.colab import files\n",
        "files.upload()"
      ],
      "metadata": {
        "colab": {
          "base_uri": "https://localhost:8080/",
          "height": 1000
        },
        "id": "-J7Urf3L5_Ci",
        "outputId": "4fe5d0ba-0327-44a4-bc1e-c05729f7a4ee"
      },
      "execution_count": null,
      "outputs": [
        {
          "output_type": "display_data",
          "data": {
            "text/plain": [
              "<IPython.core.display.HTML object>"
            ],
            "text/html": [
              "\n",
              "     <input type=\"file\" id=\"files-4f652ae1-03af-4d95-abdd-08ff321dbea5\" name=\"files[]\" multiple disabled\n",
              "        style=\"border:none\" />\n",
              "     <output id=\"result-4f652ae1-03af-4d95-abdd-08ff321dbea5\">\n",
              "      Upload widget is only available when the cell has been executed in the\n",
              "      current browser session. Please rerun this cell to enable.\n",
              "      </output>\n",
              "      <script>// Copyright 2017 Google LLC\n",
              "//\n",
              "// Licensed under the Apache License, Version 2.0 (the \"License\");\n",
              "// you may not use this file except in compliance with the License.\n",
              "// You may obtain a copy of the License at\n",
              "//\n",
              "//      http://www.apache.org/licenses/LICENSE-2.0\n",
              "//\n",
              "// Unless required by applicable law or agreed to in writing, software\n",
              "// distributed under the License is distributed on an \"AS IS\" BASIS,\n",
              "// WITHOUT WARRANTIES OR CONDITIONS OF ANY KIND, either express or implied.\n",
              "// See the License for the specific language governing permissions and\n",
              "// limitations under the License.\n",
              "\n",
              "/**\n",
              " * @fileoverview Helpers for google.colab Python module.\n",
              " */\n",
              "(function(scope) {\n",
              "function span(text, styleAttributes = {}) {\n",
              "  const element = document.createElement('span');\n",
              "  element.textContent = text;\n",
              "  for (const key of Object.keys(styleAttributes)) {\n",
              "    element.style[key] = styleAttributes[key];\n",
              "  }\n",
              "  return element;\n",
              "}\n",
              "\n",
              "// Max number of bytes which will be uploaded at a time.\n",
              "const MAX_PAYLOAD_SIZE = 100 * 1024;\n",
              "\n",
              "function _uploadFiles(inputId, outputId) {\n",
              "  const steps = uploadFilesStep(inputId, outputId);\n",
              "  const outputElement = document.getElementById(outputId);\n",
              "  // Cache steps on the outputElement to make it available for the next call\n",
              "  // to uploadFilesContinue from Python.\n",
              "  outputElement.steps = steps;\n",
              "\n",
              "  return _uploadFilesContinue(outputId);\n",
              "}\n",
              "\n",
              "// This is roughly an async generator (not supported in the browser yet),\n",
              "// where there are multiple asynchronous steps and the Python side is going\n",
              "// to poll for completion of each step.\n",
              "// This uses a Promise to block the python side on completion of each step,\n",
              "// then passes the result of the previous step as the input to the next step.\n",
              "function _uploadFilesContinue(outputId) {\n",
              "  const outputElement = document.getElementById(outputId);\n",
              "  const steps = outputElement.steps;\n",
              "\n",
              "  const next = steps.next(outputElement.lastPromiseValue);\n",
              "  return Promise.resolve(next.value.promise).then((value) => {\n",
              "    // Cache the last promise value to make it available to the next\n",
              "    // step of the generator.\n",
              "    outputElement.lastPromiseValue = value;\n",
              "    return next.value.response;\n",
              "  });\n",
              "}\n",
              "\n",
              "/**\n",
              " * Generator function which is called between each async step of the upload\n",
              " * process.\n",
              " * @param {string} inputId Element ID of the input file picker element.\n",
              " * @param {string} outputId Element ID of the output display.\n",
              " * @return {!Iterable<!Object>} Iterable of next steps.\n",
              " */\n",
              "function* uploadFilesStep(inputId, outputId) {\n",
              "  const inputElement = document.getElementById(inputId);\n",
              "  inputElement.disabled = false;\n",
              "\n",
              "  const outputElement = document.getElementById(outputId);\n",
              "  outputElement.innerHTML = '';\n",
              "\n",
              "  const pickedPromise = new Promise((resolve) => {\n",
              "    inputElement.addEventListener('change', (e) => {\n",
              "      resolve(e.target.files);\n",
              "    });\n",
              "  });\n",
              "\n",
              "  const cancel = document.createElement('button');\n",
              "  inputElement.parentElement.appendChild(cancel);\n",
              "  cancel.textContent = 'Cancel upload';\n",
              "  const cancelPromise = new Promise((resolve) => {\n",
              "    cancel.onclick = () => {\n",
              "      resolve(null);\n",
              "    };\n",
              "  });\n",
              "\n",
              "  // Wait for the user to pick the files.\n",
              "  const files = yield {\n",
              "    promise: Promise.race([pickedPromise, cancelPromise]),\n",
              "    response: {\n",
              "      action: 'starting',\n",
              "    }\n",
              "  };\n",
              "\n",
              "  cancel.remove();\n",
              "\n",
              "  // Disable the input element since further picks are not allowed.\n",
              "  inputElement.disabled = true;\n",
              "\n",
              "  if (!files) {\n",
              "    return {\n",
              "      response: {\n",
              "        action: 'complete',\n",
              "      }\n",
              "    };\n",
              "  }\n",
              "\n",
              "  for (const file of files) {\n",
              "    const li = document.createElement('li');\n",
              "    li.append(span(file.name, {fontWeight: 'bold'}));\n",
              "    li.append(span(\n",
              "        `(${file.type || 'n/a'}) - ${file.size} bytes, ` +\n",
              "        `last modified: ${\n",
              "            file.lastModifiedDate ? file.lastModifiedDate.toLocaleDateString() :\n",
              "                                    'n/a'} - `));\n",
              "    const percent = span('0% done');\n",
              "    li.appendChild(percent);\n",
              "\n",
              "    outputElement.appendChild(li);\n",
              "\n",
              "    const fileDataPromise = new Promise((resolve) => {\n",
              "      const reader = new FileReader();\n",
              "      reader.onload = (e) => {\n",
              "        resolve(e.target.result);\n",
              "      };\n",
              "      reader.readAsArrayBuffer(file);\n",
              "    });\n",
              "    // Wait for the data to be ready.\n",
              "    let fileData = yield {\n",
              "      promise: fileDataPromise,\n",
              "      response: {\n",
              "        action: 'continue',\n",
              "      }\n",
              "    };\n",
              "\n",
              "    // Use a chunked sending to avoid message size limits. See b/62115660.\n",
              "    let position = 0;\n",
              "    do {\n",
              "      const length = Math.min(fileData.byteLength - position, MAX_PAYLOAD_SIZE);\n",
              "      const chunk = new Uint8Array(fileData, position, length);\n",
              "      position += length;\n",
              "\n",
              "      const base64 = btoa(String.fromCharCode.apply(null, chunk));\n",
              "      yield {\n",
              "        response: {\n",
              "          action: 'append',\n",
              "          file: file.name,\n",
              "          data: base64,\n",
              "        },\n",
              "      };\n",
              "\n",
              "      let percentDone = fileData.byteLength === 0 ?\n",
              "          100 :\n",
              "          Math.round((position / fileData.byteLength) * 100);\n",
              "      percent.textContent = `${percentDone}% done`;\n",
              "\n",
              "    } while (position < fileData.byteLength);\n",
              "  }\n",
              "\n",
              "  // All done.\n",
              "  yield {\n",
              "    response: {\n",
              "      action: 'complete',\n",
              "    }\n",
              "  };\n",
              "}\n",
              "\n",
              "scope.google = scope.google || {};\n",
              "scope.google.colab = scope.google.colab || {};\n",
              "scope.google.colab._files = {\n",
              "  _uploadFiles,\n",
              "  _uploadFilesContinue,\n",
              "};\n",
              "})(self);\n",
              "</script> "
            ]
          },
          "metadata": {}
        },
        {
          "output_type": "stream",
          "name": "stdout",
          "text": [
            "Saving Collectible.csv to Collectible.csv\n"
          ]
        },
        {
          "output_type": "execute_result",
          "data": {
            "text/plain": [
              "{'Collectible.csv': b'\\xef\\xbb\\xbfcollectible_id,category_id,description,price,availablity\\r\\nCI101,1,Tin toy - arithmetic monkey - tin m,40,Available\\r\\nCI102,1,Tin toys - pecking roosters - roost,75,Available\\r\\nCI103,1,Antique Vintage 1950s Little Spotte,85,Available\\r\\nCI104,1,Vintage 19670s - 1980s Tin Wind Up ,90,Available\\r\\nCI105,1,Vintage 90\\'s Mcdonalds Blue and Pur,125,Available\\r\\nCI106,1,Electra Robot.Vintage Wind Up Tin T,45,Available\\r\\nCI107,1,Altair IV Robby the Robot Flying Sa,50,Available\\r\\nCI108,1,Vintage Tin Wind Up Train Collectib,60,Available\\r\\nCI109,1,Replica KAWS Figure Statue Inspired,67,Available\\r\\nCI110,1,1993 BALI Barbie Doll by Mattel,110,Available\\r\\nCI111,1,Vintage Toys Unimax Musical Moving ,85,Available\\r\\nCI112,1,Vintage 1960\\'s SH Horikawa Battery ,90,Available\\r\\nCI113,1,Rare Toy Story 2 Talking Buzz Light,125,Available\\r\\nCI114,1,1999 Toy Biz Spider-Man Spider Powe,45,Available\\r\\nCI115,1,Busy Boy Tool Chest,50,Available\\r\\nCI116,1,Tin toy - Boat Recycle - Recycling ,60,Available\\r\\nCI117,1,Tin toys - Tin playground - Animal ,60,Available\\r\\nCI118,1,1 Antique Tin Toy Wind Up Toy With ,67,Available\\r\\nCI119,1,1990 RARE McDonalds Toy Fast Food P,110,Available\\r\\nCI120,1,Four Rare Toy2R Qee New Sealed,60,Available\\r\\nCI121,1,Beyblade X Xtreme Battle Set with B,35,Available\\r\\nCI122,1,Mattel Games Blokus Game,35,Available\\r\\nCI123,1,Hasbro Gaming Battleship Classic Bo,45,Available\\r\\nCI124,1,Hasbro Scrabble Board Game 1999 Edi,45,Available\\r\\nCI125,1,Hasbro Guess Who?  F1360,35,Available\\r\\nCI126,1,Clue Conspiracy Board Game ,35,Available\\r\\nCI127,1,Trouble: Bluey Edition Board Game,45,Available\\r\\nCI128,1,Don\\xe2\\x80\\x99t Break The Ice Mammoth Edition,75,Available\\r\\nCI129,1,Hasbro Yahtzee Jr.: Marvel Spidey a,45,Available\\r\\nCI130,1,Beyblade X Soar Phoenix 9-60GF Delu,50,Available\\r\\nCI131,1,Bop It! Extreme Electronic Game,25,Available\\r\\nCI132,1,Hasbro Gaming Avalon Hill HeroQuest,65,Available\\r\\nCI133,2,Joe Greene Steelers 2000 Greats of ,150,Available\\r\\nCI134,2,President George W Bush Signed Auto,123,Available\\r\\nCI135,2,2023 Topps Allen & Ginter X #MA-BR ,200,Available\\r\\nCI136,2,Upper Deck 2007 Future Stars Baseba,150,Available\\r\\nCI137,2,2024 Topps Baseball Update Series L,150,Available\\r\\nCI138,2,2021 Leaf Joe Montana autograph Car,175,Available\\r\\nCI139,2,Shohei Ohtani 50/50 2024 Case Hitme,132,Available\\r\\nCI140,2,Ollie Matson 1994 Topps Archives 19,150,Available\\r\\nCI141,2,Murad Cigarettes College Series 191,150,Available\\r\\nCI142,2,2018 TOPPS STADIUM CLUB SHOHEI OHTA,400,Available\\r\\nCI143,2,\"GEORGE W. BUSH  2021 Topps NOW \"\"THR\",150,Available\\r\\nCI144,2,sports cards - fiche FOOTBALL ONZE ,150,Available\\r\\nCI145,2,George Blanda 1994 Topps Archives 1,150,Available\\r\\nCI146,2,FULTON STAMP CO. - 1934 ALL STAR GA,50,Available\\r\\nCI147,2,Earl Campbell 2000 Greats of the Ga,50,Available\\r\\nCI148,2,Earl Campbell 2000 Upper Deck Legen,25,Available\\r\\nCI149,2,Bruce Matthews Houston Oilers 1989 ,25,Available\\r\\nCI150,2,Hunter Brown Houston Astros Signed ,45,Available\\r\\nCI151,2,19th Century Baseball H804-222 Brow,79,Available\\r\\nCI152,2,1958 Topps JIM BUNNING #115 signed ,45,Available\\r\\nCI153,2,Duskull 62/100 - Pokemon Card #5LW,25,Available\\r\\nCI154,2,Chansey 015/034 Holo CLV - Classic ,25,Available\\r\\nCI155,2,Magic the Gathering MTG Journey int,56,Available\\r\\nCI156,2,MTG Charizard - SM158 Near Mint Nor,23,Available\\r\\nCI157,2,Jynx - 68/181 - Uncommon - Reverse ,57,Available\\r\\nCI158,2,Lesser Masticore 39/54 - Modern Hor,35,Available\\r\\nCI159,2,Pokemon Base 1st  Charmander #46 BG,35,Available\\r\\nCI160,2,Espeon-EX - 102/115 - Rare Holo EX ,25,Available\\r\\nCI161,2,Feurnard ( Ninetales ) - Regular - ,80,Available\\r\\nCI162,2,Magic The Gathering Adventures of t,125,Available\\r\\nCI163,3,Infinite Crisis #5 2006 1st appeara,50,Available\\r\\nCI164,3,Absolute Wonder Woman #1 DC Comics ,50,Available\\r\\nCI165,3,ABSOLUTE WONDER WOMAN #1 1:100,25,Available\\r\\nCI166,3,Infinite Crisis #1-2  Jim Lee Varia,25,Available\\r\\nCI167,3,All Star Batman and Robin #5 Frank ,45,Available\\r\\nCI168,3,DC vs Marvel Omnibus JIM LEE WRAP D,79,Available\\r\\nCI169,3,Wonder Woman #1 2nd Print A,45,Available\\r\\nCI170,3,ABSOLUTE WONDER WOMAN #1 2024 Cover,25,Available\\r\\nCI171,3,Planet Studios Jim Lee Autographed ,25,Available\\r\\nCI172,3,BATMAN 1 SUPERMAN 1 WONDER WOMAN 1 ,56,Available\\r\\nCI173,3,Justice League #1 (2011) DC Comics ,23,Available\\r\\nCI174,3,BATMAN AND ROBIN THE BOY WONDER Com,57,Available\\r\\nCI175,3,Marvel Comics - The New Mutants #2 ,35,Available\\r\\nCI176,3,Batman #1 Superman #1 Wonder Woman ,35,Available\\r\\nCI177,3,WOLVERINE 1 2 3 4 LIMITED SERIES MA,25,Available\\r\\nCI178,3,Wonder Woman # 759 Jim Lee Variant ,80,Available\\r\\nCI179,3,Jim Lee Batman 608 Superman 7   TRI,70,Available\\r\\nCI180,3,Dc Versus Marvel Omnibus Dm Jim Lee,125,Available\\r\\nCI181,3,DC Vs Marvel Omnibus NEW SEALED 202,45,Available\\r\\nCI182,3,New Listing2004 DC COMICS Superman ,90,Available\\r\\nCI183,3,New ListingAbsolute Wonder Woman #1,100,Available\\r\\nCI184,3,Justice League #12 (DC Comics Octob,45,Available\\r\\nCI185,3,WONDER WOMAN #1 JIM LEE FOIL 2ND PR,25,Available\\r\\nCI186,3,Dark Nights Metal #1  - Jim Lee Won,35,Available\\r\\nCI187,3,BRAVE AND THE BOLD 124,25,Available\\r\\nCI188,3,Justice League #3 New 52 (2012),25,Available\\r\\nCI189,4,Hip Hop Colored Tennis Chain Neckla,50,Available\\r\\nCI190,4,Biwa Pearl Blue Topaz Gemstone Fash,75,Available\\r\\nCI191,4,Unique Jewelry 43 ct+ Quartz Neckla,235,Available\\r\\nCI192,4,Tiger\\'s Eye & Mix Gemstone 925 Ster,350,Available\\r\\nCI193,4,925 Sterling Silver Turkish Handmad,246,Available\\r\\nCI194,4,925 Sterling Silver Turkish Handmad,200,Available\\r\\nCI195,4,Tiger Eye & Mix Gemstone 925 Sterli,150,Available\\r\\nCI196,4,Garnet Red Men\\'s Ring in 925 Sterli,450,Available\\r\\nCI197,4,925 Sterling Silver Turkish Handmad,350,Available\\r\\nCI198,4,Handmade Gemstone Necklace Jewelry ,250,Available\\r\\nCI199,4,AAA Tanzanite Gemstone Rondelle Bea,125,Available\\r\\nCI200,4,Bulk Labradorite & Mix Gemstone 925,150,Available\\r\\nCI201,4,\"Red Garnet Rope Necklace 28\"\" Cluste\",150,Available\\r\\nCI202,4,Lapis Lazuli Gemstone Wholesale Lot,200,Available\\r\\nCI203,4,Rainbow Calsilica Gemstone Wholesal,150,Available\\r\\nCI204,4,2.67 Ct Heart Cut Simulated Blue Sa,450,Available\\r\\nCI205,4,Rose Gold Lollipop Gemstone Necklac,350,Available\\r\\nCI206,4,Biwa Pearl Amethyst Gemstone Fashio,250,Available\\r\\nCI207,4,Lapis Lazuli Necklace Tibetan Silve,125,Available\\r\\nCI208,4,Abalone Shell Amethyst Gemstone Fas,150,Available\\r\\nCI209,4,Station NecklaceGenuine Multi Gemst,200,Available\\r\\nCI210,4,Red Coral Necklace Tibetan Silver C,150,Available\\r\\nCI211,4,925 Sterling Silver Turkish Handmad,450,Available\\r\\nCI212,4,Elegant Amethyst & Mix Gemstone 925,350,Available\\r\\nCI213,5,levis vintage clothing lvc jeans 18,75,Available\\r\\nCI214,5,Vintage 1970s Terry Cloth Zip Front,150,Available\\r\\nCI215,5,Vintage Baseball Shirt Size S 70s T,80,Available\\r\\nCI216,5,Hippie Vtg Gunne Sax Candi Jones Cl,70,Available\\r\\nCI217,5,Vintage Ladies 1970s Clothing Dress,125,Available\\r\\nCI218,5,Wizard of Oz Vintage button Down Wo,45,Available\\r\\nCI219,5,Vintage 1970s terrycloth lot summer,90,Available\\r\\nCI220,5,Lot of 50 VTG Baby Kids Clothes Ove,100,Available\\r\\nCI221,5,Vtg Pennys Hawaii Floral Orange Yel,45,Available\\r\\nCI222,5,7 Pc Vintage Clothing Lot Women\\xe2\\x80\\x99s D,25,Available\\r\\nCI223,5,Vtg Gunne Sax & Candi Jones Clothin,35,Available\\r\\nCI224,5,Vintage Women\\'s Clothing Lot 18 Dre,25,Available\\r\\nCI225,5,Angel Sleeve 1970s Dress Hippy Lond,25,Available\\r\\nCI226,5,VTG 40+ Lot 60 70 80s Women\\'s Cloth,50,Available\\r\\nCI227,5,Vintage Ladies 1970s Clothing Dress,75,Available\\r\\nCI228,5,Vintage 1970\\xe2\\x80\\x99s Amalgamated Clothing,235,Available\\r\\nCI229,5,Vintage Clothing-1970s Dress-pink-f,125,Available\\r\\nCI230,5,1970s VTG Carhartt Bib Overalls 44x,50,Available\\r\\nCI231,5,Vintage 70s Terry Cloth Button Down,45,Available\\r\\nCI232,5,Vintage 1970s Terry Cloth Dress Gla,35,Available\\r\\nCI233,5,Beautiful Gunne Sax Vtg Clothing Lo,45,Available\\r\\nCI234,5,Vintage 1970s Terry Cloth Dress Gla,60,Available\\r\\nCI235,6,GRAIL Tiger Electronic SPACE INVADE,125,Available\\r\\nCI236,6,CRASH BANDICOOT vintage handheld el,75,Available\\r\\nCI237,6,STAR TREK Next Generation VINTAGE 1,75,Available\\r\\nCI238,6,Sanrio Pochacco 2000 Vintage Blue E,200,Available\\r\\nCI239,6,Babylon 5 Electronic LCD Video Game,150,Available\\r\\nCI240,6,Vintage JCPenney Electronic 4-In-On,450,Available\\r\\nCI241,6,Sega Dreamcast Sonic Adventure CD ,350,Available\\r\\nCI242,6,Vintage 1976 Gakken Ex-150 Current ,75,Available\\r\\nCI243,6,Original Vintage Nintendo Donkey Ko,150,Available\\r\\nCI244,6,Vintage Radio Shack Space War Shoot,80,Available\\r\\nCI245,6,1980 Vintage Williams Defender Arca,70,Available\\r\\nCI246,6,Vintage Bio-Ship Paladin 1990 Sammy,70,Available\\r\\nCI247,6,Vintage STAR WARS Darth Vader Helme,350,Available\\r\\nCI248,6,Vintage Atari DEFENDER Arcade Plexi,200,Available\\r\\nCI249,6,Microsoft Xbox 360 Elite Falcon Mot,150,Available\\r\\nCI250,6,Atari 2600  Light Sixer (6 Switch) ,450,Available\\r\\nCI251,6,XBOX 360 Console with RARE Old Dash,350,Available\\r\\nCI252,6,Nintendo Old Generation Game Consol,190,Available\\r\\nCI253,6,Digimon Adventure CARD TACTICS STAR,150,Available\\r\\nCI254,6,Old Style PlayStation 2 Plus Multip,80,Available\\r\\nCI255,6,Old Skool Classiq 3 HD 3-IN-1 720p ,70,Available\\r\\nCI256,6,Panasonic REAL 3DO FZ-1 Console CIB,65,Available\\r\\nCI257,6,Road Burners Arcade Game NEW OLD ST,65,Available\\r\\n'}"
            ]
          },
          "metadata": {},
          "execution_count": 7
        }
      ]
    },
    {
      "cell_type": "code",
      "source": [
        "!ls -la"
      ],
      "metadata": {
        "id": "tqaQCsEE9Lc8"
      },
      "execution_count": null,
      "outputs": []
    },
    {
      "cell_type": "code",
      "source": [
        "oo = pd.read_csv('Collectible.csv')\n",
        "oo"
      ],
      "metadata": {
        "id": "rG7YmYsk9Yni"
      },
      "execution_count": null,
      "outputs": []
    },
    {
      "cell_type": "code",
      "source": [
        "filename = \"Collectible.csv\""
      ],
      "metadata": {
        "id": "jRaliInh-BCA"
      },
      "execution_count": null,
      "outputs": []
    },
    {
      "cell_type": "code",
      "source": [
        "oo.shape"
      ],
      "metadata": {
        "id": "qCAGg7yT-z5l",
        "outputId": "5acc1b2c-1ea9-463a-90cf-976686332bc5",
        "colab": {
          "base_uri": "https://localhost:8080/"
        }
      },
      "execution_count": null,
      "outputs": [
        {
          "output_type": "execute_result",
          "data": {
            "text/plain": [
              "(156, 5)"
            ]
          },
          "metadata": {},
          "execution_count": 15
        }
      ]
    },
    {
      "cell_type": "code",
      "source": [
        "df=pd.DataFrame(oo)\n",
        "df"
      ],
      "metadata": {
        "id": "j5kU_v0Z-z0D"
      },
      "execution_count": null,
      "outputs": []
    },
    {
      "cell_type": "code",
      "source": [
        "new_df=df[['category_id', 'description']]\n",
        "new_df"
      ],
      "metadata": {
        "id": "oANIdSHGilYM"
      },
      "execution_count": null,
      "outputs": []
    }
  ]
}